{
 "cells": [
  {
   "cell_type": "markdown",
   "metadata": {},
   "source": [
    "# 01: Search Fundamentals\n",
    "\n",
    "## Learning Objectives\n",
    "- Understand the components of a search problem\n",
    "- Learn about state spaces and search trees\n",
    "- Implement a basic search problem\n",
    "\n",
    "## 1. Introduction to Search Problems\n",
    "\n",
    "Search is fundamental to AI. A search problem consists of:\n",
    "- **Initial state**: Where we start\n",
    "- **Actions**: What we can do in each state\n",
    "- **Transition model**: How actions change states\n",
    "- **Goal test**: How we know we've succeeded\n",
    "- **Path cost**: Cost of a sequence of actions"
   ]
  },
  {
   "cell_type": "code",
   "execution_count": null,
   "metadata": {},
   "outputs": [],
   "source": [
    "# Import required modules\n",
    "import sys\n",
    "sys.path.append('../src')\n",
    "from typing import Any, List, Tuple"
   ]
  },
  {
   "cell_type": "markdown",
   "metadata": {},
   "source": [
    "## 2. The SearchProblem Interface"
   ]
  },
  {
   "cell_type": "code",
   "execution_count": null,
   "metadata": {},
   "outputs": [],
   "source": [
    "class SearchProblem:\n",
    "    \"\"\"Abstract base class for search problems\"\"\"\n",
    "    \n",
    "    def get_start_state(self) -> Any:\n",
    "        \"\"\"Returns the initial state for the search problem\"\"\"\n",
    "        raise NotImplementedError\n",
    "    \n",
    "    def is_goal_state(self, state: Any) -> bool:\n",
    "        \"\"\"Returns True if the state is a goal state\"\"\"\n",
    "        raise NotImplementedError\n",
    "    \n",
    "    def get_successors(self, state: Any) -> List[Tuple[Any, str, float]]:\n",
    "        \"\"\"Returns list of (successor, action, cost) tuples\"\"\"\n",
    "        raise NotImplementedError\n",
    "    \n",
    "    def get_cost_of_actions(self, actions: List[str]) -> float:\n",
    "        \"\"\"Returns the total cost of a sequence of actions\"\"\"\n",
    "        raise NotImplementedError"
   ]
  },
  {
   "cell_type": "markdown",
   "metadata": {},
   "source": [
    "## 3. Example: Grid Navigation Problem"
   ]
  },
  {
   "cell_type": "code",
   "execution_count": null,
   "metadata": {},
   "outputs": [],
   "source": [
    "class GridSearchProblem(SearchProblem):\n",
    "    \"\"\"Grid navigation with obstacles\"\"\"\n",
    "    \n",
    "    def __init__(self, grid: List[List], start: Tuple[int, int], goal: Tuple[int, int]):\n",
    "        self.grid = grid\n",
    "        self.start = start\n",
    "        self.goal = goal\n",
    "        self.rows = len(grid)\n",
    "        self.cols = len(grid[0]) if grid else 0\n",
    "    \n",
    "    def get_start_state(self):\n",
    "        return self.start\n",
    "    \n",
    "    def is_goal_state(self, state):\n",
    "        return state == self.goal\n",
    "    \n",
    "    def get_successors(self, state):\n",
    "        successors = []\n",
    "        row, col = state\n",
    "        \n",
    "        moves = [\n",
    "            ((-1, 0), 'UP', 1.0),\n",
    "            ((1, 0), 'DOWN', 1.0),\n",
    "            ((0, -1), 'LEFT', 1.0),\n",
    "            ((0, 1), 'RIGHT', 1.0)\n",
    "        ]\n",
    "        \n",
    "        for (dr, dc), action, cost in moves:\n",
    "            new_row, new_col = row + dr, col + dc\n",
    "            \n",
    "            if (0 <= new_row < self.rows and \n",
    "                0 <= new_col < self.cols and \n",
    "                self.grid[new_row][new_col] != 1):\n",
    "                \n",
    "                successors.append(((new_row, new_col), action, cost))\n",
    "        \n",
    "        return successors\n",
    "    \n",
    "    def get_cost_of_actions(self, actions):\n",
    "        return len(actions)"
   ]
  },
  {
   "cell_type": "markdown",
   "metadata": {},
   "source": [
    "## 4. Create and Test a Sample Problem"
   ]
  },
  {
   "cell_type": "code",
   "execution_count": null,
   "metadata": {},
   "outputs": [],
   "source": [
    "# Create a sample grid world (0=free, 1=obstacle)\n",
    "sample_grid = [\n",
    "    [0, 0, 0, 0, 0],\n",
    "    [0, 1, 1, 0, 0],\n",
    "    [0, 0, 0, 0, 0],\n",
    "    [0, 0, 1, 1, 0],\n",
    "    [0, 0, 0, 0, 0]\n",
    "]\n",
    "\n",
    "start_pos = (0, 0)\n",
    "goal_pos = (4, 4)\n",
    "\n",
    "problem = GridSearchProblem(sample_grid, start_pos, goal_pos)\n",
    "\n",
    "# Test the problem\n",
    "print(f\"Start state: {problem.get_start_state()}\")\n",
    "print(f\"Is goal? {problem.is_goal_state(start_pos)}\")\n",
    "print(\"\\nSuccessors from start:\")\n",
    "for successor, action, cost in problem.get_successors(start_pos):\n",
    "    print(f\"  {action}: move to {successor} (cost={cost})\")"
   ]
  },
  {
   "cell_type": "markdown",
   "metadata": {},
   "source": [
    "## 5. Search Node Class"
   ]
  },
  {
   "cell_type": "code",
   "execution_count": null,
   "metadata": {},
   "outputs": [],
   "source": [
    "class SearchNode:\n",
    "    \"\"\"Node in the search tree\"\"\"\n",
    "    \n",
    "    def __init__(self, state, parent=None, action=None, path_cost=0):\n",
    "        self.state = state\n",
    "        self.parent = parent\n",
    "        self.action = action\n",
    "        self.path_cost = path_cost\n",
    "        self.depth = 0 if parent is None else parent.depth + 1\n",
    "    \n",
    "    def get_path(self):\n",
    "        path = []\n",
    "        node = self\n",
    "        while node:\n",
    "            path.append(node.state)\n",
    "            node = node.parent\n",
    "        return list(reversed(path))\n",
    "    \n",
    "    def get_actions(self):\n",
    "        actions = []\n",
    "        node = self\n",
    "        while node.parent:\n",
    "            actions.append(node.action)\n",
    "            node = node.parent\n",
    "        return list(reversed(actions))"
   ]
  },
  {
   "cell_type": "markdown",
   "metadata": {},
   "source": [
    "## 6. Exercise 1: 8-Puzzle Problem (COMPLETED)"
   ]
  },
  {
   "cell_type": "code",
   "execution_count": null,
   "metadata": {},
   "outputs": [],
   "source": [
    "class EightPuzzleProblem(SearchProblem):\n",
    "    \"\"\"8-puzzle: 3x3 grid with tiles 1-8 and one blank (0)\"\"\"\n",
    "    \n",
    "    def __init__(self, initial_state, goal_state=None):\n",
    "        self.initial = initial_state\n",
    "        self.goal = goal_state or (1, 2, 3, 4, 5, 6, 7, 8, 0)\n",
    "    \n",
    "    def get_start_state(self):\n",
    "        return self.initial\n",
    "    \n",
    "    def is_goal_state(self, state):\n",
    "        return state == self.goal\n",
    "    \n",
    "    def get_successors(self, state):\n",
    "        successors = []\n",
    "        blank_pos = state.index(0)\n",
    "        row, col = blank_pos // 3, blank_pos % 3\n",
    "        moves = [(-1, 0, 'UP'), (1, 0, 'DOWN'), (0, -1, 'LEFT'), (0, 1, 'RIGHT')]\n",
    "        for dr, dc, action in moves:\n",
    "            new_row, new_col = row + dr, col + dc\n",
    "            if 0 <= new_row < 3 and 0 <= new_col < 3:\n",
    "                new_pos = new_row * 3 + new_col\n",
    "                new_state = list(state)\n",
    "                new_state[blank_pos], new_state[new_pos] = new_state[new_pos], new_state[blank_pos]\n",
    "                successors.append((tuple(new_state), action, 1))\n",
    "        return successors\n",
    "    \n",
    "    def get_cost_of_actions(self, actions):\n",
    "        return len(actions)\n",
    "\n",
    "# Test the 8-puzzle\n",
    "puzzle = EightPuzzleProblem((1, 2, 3, 4, 0, 6, 7, 5, 8))\n",
    "print(\"8-Puzzle successors:\")\n",
    "for successor, action, cost in puzzle.get_successors(puzzle.get_start_state()):\n",
    "    print(f\"  {action}: {successor}\")"
   ]
  },
  {
   "cell_type": "markdown",
   "metadata": {},
   "source": [
    "## 7. Exercise 2: Variable Cost Grid Problem (COMPLETED)"
   ]
  },
  {
   "cell_type": "code",
   "execution_count": null,
   "metadata": {},
   "outputs": [],
   "source": [
    "class VariableCostGridProblem(GridSearchProblem):\n",
    "    \"\"\"Grid navigation with diagonal moves (cost √2)\"\"\"\n",
    "    \n",
    "    def get_successors(self, state):\n",
    "        successors = []\n",
    "        row, col = state\n",
    "        \n",
    "        # Orthogonal + diagonal moves\n",
    "        moves = [\n",
    "            ((-1, 0), 'UP', 1.0),\n",
    "            ((1, 0), 'DOWN', 1.0),\n",
    "            ((0, -1), 'LEFT', 1.0),\n",
    "            ((0, 1), 'RIGHT', 1.0),\n",
    "            ((-1, -1), 'UP-LEFT', 1.414),\n",
    "            ((-1, 1), 'UP-RIGHT', 1.414),\n",
    "            ((1, -1), 'DOWN-LEFT', 1.414),\n",
    "            ((1, 1), 'DOWN-RIGHT', 1.414)\n",
    "        ]\n",
    "        \n",
    "        for (dr, dc), action, cost in moves:\n",
    "            new_row, new_col = row + dr, col + dc\n",
    "            \n",
    "            if (0 <= new_row < self.rows and \n",
    "                0 <= new_col < self.cols and \n",
    "                self.grid[new_row][new_col] != 1):\n",
    "                \n",
    "                successors.append(((new_row, new_col), action, cost))\n",
    "        \n",
    "        return successors\n",
    "\n",
    "# Test variable cost grid\n",
    "vcg_problem = VariableCostGridProblem(sample_grid, (0, 0), (4, 4))\n",
    "print(\"\\nVariable cost successors from (2,2):\")\n",
    "for successor, action, cost in vcg_problem.get_successors((2, 2)):\n",
    "    print(f\"  {action}: {successor} (cost={cost})\")"
   ]
  },
  {
   "cell_type": "markdown",
   "metadata": {},
   "source": [
    "## 8. Key Takeaways\n",
    "\n",
    "1. **Search problems** are defined by states, actions, and goals\n",
    "2. **State space** can be much larger than what we can explore\n",
    "3. **Search trees** represent paths through the state space\n",
    "4. **Different problems** require different state representations\n",
    "5. **Cost functions** determine optimal solutions\n",
    "\n",
    "Both TODO implementations are now complete:\n",
    "- **EightPuzzle**: Sliding tile mechanics with blank position tracking\n",
    "- **VariableCostGrid**: Diagonal movement with proper √2 costs"
   ]
  }
 ],
 "metadata": {
  "kernelspec": {
   "display_name": "Python 3",
   "language": "python",
   "name": "python3"
  },
  "language_info": {
   "codemirror_mode": {
    "name": "ipython",
    "version": 3
   },
   "file_extension": ".py",
   "mimetype": "text/x-python",
   "name": "python",
   "nbconvert_exporter": "python",
   "pygments_lexer": "ipython3",
   "version": "3.8.0"
  }
 },
 "nbformat": 4,
 "nbformat_minor": 4
}
