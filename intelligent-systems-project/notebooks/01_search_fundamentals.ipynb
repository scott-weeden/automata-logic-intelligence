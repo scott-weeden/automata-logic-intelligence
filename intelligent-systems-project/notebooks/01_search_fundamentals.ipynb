{
 "cells": [
  {
   "cell_type": "markdown",
   "metadata": {},
   "source": [
    "# Search Fundamentals\n",
    "\n",
    "Introduction to search algorithms and problem formulation.\n",
    "Based on CS 5368 Week 1-3 material on uninformed search strategies."
   ]
  },
  {
   "cell_type": "code",
   "execution_count": null,
   "metadata": {},
   "outputs": [],
   "source": [
    "import sys\n",
    "sys.path.append('../src')\n",
    "\n",
    "from search import (\n",
    "    breadth_first_search, depth_first_search, uniform_cost_search,\n",
    "    GridSearchProblem, manhattan_distance\n",
    ")\n",
    "import numpy as np"
   ]
  },
  {
   "cell_type": "markdown",
   "metadata": {},
   "source": [
    "## Problem Formulation\n",
    "\n",
    "A search problem consists of:\n",
    "- Initial state\n",
    "- Actions available in each state\n",
    "- Transition model (result of actions)\n",
    "- Goal test\n",
    "- Path cost function"
   ]
  },
  {
   "cell_type": "code",
   "execution_count": null,
   "metadata": {},
   "outputs": [],
   "source": [
    "# Create a simple grid world\n",
    "grid = [\n",
    "    [0, 0, 1, 0, 0],\n",
    "    [0, 1, 1, 0, 0],\n",
    "    [0, 0, 0, 0, 1],\n",
    "    [1, 1, 0, 0, 0],\n",
    "    [0, 0, 0, 1, 0]\n",
    "]\n",
    "\n",
    "start = (0, 0)\n",
    "goal = (4, 4)\n",
    "problem = GridSearchProblem(grid, start, goal)\n",
    "\n",
    "print(\"Grid (0=free, 1=obstacle):\")\n",
    "for row in grid:\n",
    "    print(' '.join(str(cell) for cell in row))\n",
    "print(f\"Start: {start}, Goal: {goal}\")"
   ]
  },
  {
   "cell_type": "markdown",
   "metadata": {},
   "source": [
    "## Breadth-First Search\n",
    "\n",
    "BFS explores nodes in order of increasing depth.\n",
    "- Complete: Yes (if branching factor is finite)\n",
    "- Optimal: Yes (for unit step costs)\n",
    "- Time: O(b^d)\n",
    "- Space: O(b^d)"
   ]
  },
  {
   "cell_type": "code",
   "execution_count": null,
   "metadata": {},
   "outputs": [],
   "source": [
    "# Solve with BFS\n",
    "bfs_solution = breadth_first_search(problem)\n",
    "print(f\"BFS solution length: {len(bfs_solution) if bfs_solution else 'No solution'}\")\n",
    "print(f\"BFS path: {bfs_solution}\")"
   ]
  },
  {
   "cell_type": "markdown",
   "metadata": {},
   "source": [
    "## Depth-First Search\n",
    "\n",
    "DFS explores deepest nodes first.\n",
    "- Complete: No (can get stuck in infinite paths)\n",
    "- Optimal: No\n",
    "- Time: O(b^m) where m is maximum depth\n",
    "- Space: O(bm) - much better than BFS"
   ]
  },
  {
   "cell_type": "code",
   "execution_count": null,
   "metadata": {},
   "outputs": [],
   "source": [
    "# Solve with DFS\n",
    "dfs_solution = depth_first_search(problem)\n",
    "print(f\"DFS solution length: {len(dfs_solution) if dfs_solution else 'No solution'}\")\n",
    "print(f\"DFS path: {dfs_solution}\")"
   ]
  },
  {
   "cell_type": "markdown",
   "metadata": {},
   "source": [
    "## Uniform Cost Search\n",
    "\n",
    "UCS expands nodes in order of increasing path cost.\n",
    "- Complete: Yes (if step costs ≥ ε > 0)\n",
    "- Optimal: Yes\n",
    "- Equivalent to BFS when all step costs are equal"
   ]
  },
  {
   "cell_type": "code",
   "execution_count": null,
   "metadata": {},
   "outputs": [],
   "source": [
    "# Solve with UCS\n",
    "ucs_solution = uniform_cost_search(problem)\n",
    "print(f\"UCS solution length: {len(ucs_solution) if ucs_solution else 'No solution'}\")\n",
    "print(f\"UCS path: {ucs_solution}\")"
   ]
  },
  {
   "cell_type": "markdown",
   "metadata": {},
   "source": [
    "## Comparison\n",
    "\n",
    "Compare the different search strategies on the same problem."
   ]
  },
  {
   "cell_type": "code",
   "execution_count": null,
   "metadata": {},
   "outputs": [],
   "source": [
    "algorithms = [\n",
    "    ('BFS', breadth_first_search, bfs_solution),\n",
    "    ('DFS', depth_first_search, dfs_solution), \n",
    "    ('UCS', uniform_cost_search, ucs_solution)\n",
    "]\n",
    "\n",
    "print(\"Algorithm Comparison:\")\n",
    "print(\"Algorithm | Solution Length | Optimal?\")\n",
    "print(\"-\" * 40)\n",
    "\n",
    "optimal_length = len(bfs_solution) if bfs_solution else float('inf')\n",
    "\n",
    "for name, func, solution in algorithms:\n",
    "    if solution:\n",
    "        length = len(solution)\n",
    "        is_optimal = length == optimal_length\n",
    "        print(f\"{name:9} | {length:15} | {is_optimal}\")\n",
    "    else:\n",
    "        print(f\"{name:9} | {'No solution':15} | False\")"
   ]
  }
 ],
 "metadata": {
  "kernelspec": {
   "display_name": "Python 3",
   "language": "python",
   "name": "python3"
  },
  "language_info": {
   "codemirror_mode": {
    "name": "ipython",
    "version": 3
   },
   "file_extension": ".py",
   "mimetype": "text/x-python",
   "name": "python",
   "nbconvert_exporter": "python",
   "pygments_lexer": "ipython3",
   "version": "3.8.0"
  }
 },
 "nbformat": 4,
 "nbformat_minor": 4
}
